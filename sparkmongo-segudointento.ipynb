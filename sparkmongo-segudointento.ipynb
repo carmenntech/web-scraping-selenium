{
 "cells": [
  {
   "cell_type": "code",
   "execution_count": 1,
   "id": "ea4563c4-6d86-4f93-8167-46242851283f",
   "metadata": {},
   "outputs": [
    {
     "name": "stdout",
     "output_type": "stream",
     "text": [
      "Requirement already satisfied: pandas in /opt/conda/lib/python3.11/site-packages (2.0.3)\n",
      "Requirement already satisfied: python-dateutil>=2.8.2 in /opt/conda/lib/python3.11/site-packages (from pandas) (2.8.2)\n",
      "Requirement already satisfied: pytz>=2020.1 in /opt/conda/lib/python3.11/site-packages (from pandas) (2023.3.post1)\n",
      "Requirement already satisfied: tzdata>=2022.1 in /opt/conda/lib/python3.11/site-packages (from pandas) (2023.3)\n",
      "Requirement already satisfied: numpy>=1.21.0 in /opt/conda/lib/python3.11/site-packages (from pandas) (1.24.4)\n",
      "Requirement already satisfied: six>=1.5 in /opt/conda/lib/python3.11/site-packages (from python-dateutil>=2.8.2->pandas) (1.16.0)\n",
      "Note: you may need to restart the kernel to use updated packages.\n",
      "Requirement already satisfied: pymongo in /opt/conda/lib/python3.11/site-packages (4.8.0)\n",
      "Requirement already satisfied: dnspython<3.0.0,>=1.16.0 in /opt/conda/lib/python3.11/site-packages (from pymongo) (2.6.1)\n",
      "Note: you may need to restart the kernel to use updated packages.\n"
     ]
    }
   ],
   "source": [
    "%pip install pandas\n",
    "%pip install pymongo"
   ]
  },
  {
   "cell_type": "code",
   "execution_count": 2,
   "id": "8285f629-fc49-4f53-8b1a-82b2848b09bc",
   "metadata": {},
   "outputs": [
    {
     "name": "stdout",
     "output_type": "stream",
     "text": [
      "                                                titulo  \\\n",
      "0                                        Amaia - Nanai   \n",
      "1    Amaia - Santos Que Yo Te Pinte (Live | Vevo St...   \n",
      "2    Amaia - La Vida Imposible (Live | Vevo Studio ...   \n",
      "3    Amaia, Aitana - La Canción Que No Quiero Cantarte   \n",
      "4                          Amaia - Bienvenidos Al Show   \n",
      "..                                                 ...   \n",
      "256                  Nicki Nicole, Cazzu - Cómo Dímelo   \n",
      "257                     Nicki Nicole - Nos Encontramos   \n",
      "258     Nicki Nicole - F**cking Diablo (Video Oficial)   \n",
      "259          Nicki Nicole - Años Luz ✨ (Video Oficial)   \n",
      "260      Nicki Nicole - Wapo Traketero (Video Oficial)   \n",
      "\n",
      "                        views           fecha            user  \n",
      "0       393 K visualizaciones  hace 3 semanas    @amaiaromero  \n",
      "1       158 K visualizaciones     hace 2 años    @amaiaromero  \n",
      "2       193 K visualizaciones     hace 2 años    @amaiaromero  \n",
      "3    2,3 M de visualizaciones     hace 2 años    @amaiaromero  \n",
      "4    1,7 M de visualizaciones     hace 2 años    @amaiaromero  \n",
      "..                        ...             ...             ...  \n",
      "256   38 M de visualizaciones     hace 4 años  @NickiNicoleOk  \n",
      "257   10 M de visualizaciones     hace 4 años  @NickiNicoleOk  \n",
      "258   15 M de visualizaciones     hace 4 años  @NickiNicoleOk  \n",
      "259   69 M de visualizaciones     hace 4 años  @NickiNicoleOk  \n",
      "260  161 M de visualizaciones     hace 5 años  @NickiNicoleOk  \n",
      "\n",
      "[261 rows x 4 columns]\n"
     ]
    }
   ],
   "source": [
    "import pyspark\n",
    "from pyspark.sql import SparkSession\n",
    "from pymongo import MongoClient\n",
    "import pandas as pd\n",
    "\n",
    "# Crea una SparkSession\n",
    "spark = SparkSession.builder \\\n",
    "    .appName(\"MongoSparkConnector\") \\\n",
    "    .getOrCreate()\n",
    "\n",
    "# Conecta a MongoDB usando pymongo\n",
    "client = MongoClient(\"mongodb://172.17.0.3:27017/\")\n",
    "db = client['docker']\n",
    "collection = db['yt-data']\n",
    "\n",
    "# Extrae los datos desde MongoDB\n",
    "mongo_data = list(collection.find())\n",
    "\n",
    "#print(mongo_data)\n",
    "\n",
    "# Convierte los datos a un DataFrame de pandas\n",
    "pdf = pd.DataFrame(mongo_data)\n",
    "\n",
    "# Elimina la columna '_id' si es necesario, ya que no es serializable por defecto en Spark\n",
    "if '_id' in pdf.columns:\n",
    "    pdf = pdf.drop(columns=['_id'])\n",
    "\n",
    "# Convierte el DataFrame de pandas a un DataFrame de Spark\n",
    "df = spark.createDataFrame(pdf)\n",
    "\n",
    "print(pdf)\n",
    "# Muestra el esquema del DataFrame\n",
    "#df.printSchema()\n",
    "\n",
    "# Muestra algunas filas del DataFrame\n",
    "#df.show()\n",
    "\n",
    "# Realiza alguna transformación en el DataFrame\n",
    "#df_filtered = df.filter(df['age'] > 25)\n",
    "\n",
    "# Muestra las filas filtradas\n",
    "#df_filtered.show()\n",
    "\n",
    "# Escribe datos de vuelta a MongoDB (opcional)\n",
    "#df_filtered.write.format(\"mongo\").mode(\"append\").save()\n",
    "\n",
    "# Finaliza la sesión de Spark\n",
    "spark.stop()\n",
    "\n"
   ]
  },
  {
   "cell_type": "code",
   "execution_count": 3,
   "id": "9941a48b-bbf0-446e-ab02-dd3e8b2e8f62",
   "metadata": {},
   "outputs": [
    {
     "name": "stdout",
     "output_type": "stream",
     "text": [
      "                                                titulo  \\\n",
      "0                                        Amaia - Nanai   \n",
      "1    Amaia - Santos Que Yo Te Pinte (Live | Vevo St...   \n",
      "2    Amaia - La Vida Imposible (Live | Vevo Studio ...   \n",
      "3    Amaia, Aitana - La Canción Que No Quiero Cantarte   \n",
      "4                          Amaia - Bienvenidos Al Show   \n",
      "..                                                 ...   \n",
      "256                  Nicki Nicole, Cazzu - Cómo Dímelo   \n",
      "257                     Nicki Nicole - Nos Encontramos   \n",
      "258     Nicki Nicole - F**cking Diablo (Video Oficial)   \n",
      "259          Nicki Nicole - Años Luz ✨ (Video Oficial)   \n",
      "260      Nicki Nicole - Wapo Traketero (Video Oficial)   \n",
      "\n",
      "                        views           fecha            user  \n",
      "0       393 K visualizaciones  hace 3 semanas    @amaiaromero  \n",
      "1       158 K visualizaciones     hace 2 años    @amaiaromero  \n",
      "2       193 K visualizaciones     hace 2 años    @amaiaromero  \n",
      "3    2.3 M de visualizaciones     hace 2 años    @amaiaromero  \n",
      "4    1.7 M de visualizaciones     hace 2 años    @amaiaromero  \n",
      "..                        ...             ...             ...  \n",
      "256   38 M de visualizaciones     hace 4 años  @NickiNicoleOk  \n",
      "257   10 M de visualizaciones     hace 4 años  @NickiNicoleOk  \n",
      "258   15 M de visualizaciones     hace 4 años  @NickiNicoleOk  \n",
      "259   69 M de visualizaciones     hace 4 años  @NickiNicoleOk  \n",
      "260  161 M de visualizaciones     hace 5 años  @NickiNicoleOk  \n",
      "\n",
      "[261 rows x 4 columns]\n"
     ]
    }
   ],
   "source": [
    "\n",
    "# Reemplazar la coma por un punto en la columna 'visualizaciones'\n",
    "pdf['views'] = pdf['views'].str.replace(',', '.')\n",
    "\n",
    "# Mostrar el DataFrame resultante\n",
    "print(pdf)"
   ]
  },
  {
   "cell_type": "code",
   "execution_count": 4,
   "id": "1279cc40-516f-409a-addc-a998a3299e69",
   "metadata": {},
   "outputs": [
    {
     "name": "stdout",
     "output_type": "stream",
     "text": [
      "                                                titulo      views  \\\n",
      "0                                        Amaia - Nanai     393000   \n",
      "1    Amaia - Santos Que Yo Te Pinte (Live | Vevo St...     158000   \n",
      "2    Amaia - La Vida Imposible (Live | Vevo Studio ...     193000   \n",
      "3    Amaia, Aitana - La Canción Que No Quiero Cantarte    2300000   \n",
      "4                          Amaia - Bienvenidos Al Show    1700000   \n",
      "..                                                 ...        ...   \n",
      "256                  Nicki Nicole, Cazzu - Cómo Dímelo   38000000   \n",
      "257                     Nicki Nicole - Nos Encontramos   10000000   \n",
      "258     Nicki Nicole - F**cking Diablo (Video Oficial)   15000000   \n",
      "259          Nicki Nicole - Años Luz ✨ (Video Oficial)   69000000   \n",
      "260      Nicki Nicole - Wapo Traketero (Video Oficial)  161000000   \n",
      "\n",
      "              fecha            user  \n",
      "0    hace 3 semanas    @amaiaromero  \n",
      "1       hace 2 años    @amaiaromero  \n",
      "2       hace 2 años    @amaiaromero  \n",
      "3       hace 2 años    @amaiaromero  \n",
      "4       hace 2 años    @amaiaromero  \n",
      "..              ...             ...  \n",
      "256     hace 4 años  @NickiNicoleOk  \n",
      "257     hace 4 años  @NickiNicoleOk  \n",
      "258     hace 4 años  @NickiNicoleOk  \n",
      "259     hace 4 años  @NickiNicoleOk  \n",
      "260     hace 5 años  @NickiNicoleOk  \n",
      "\n",
      "[261 rows x 4 columns]\n"
     ]
    }
   ],
   "source": [
    "# Definir una función que limpie y transforme los valores de la columna\n",
    "def transformar_visualizaciones(valor):\n",
    "    # Obtener la parte numérica y el sufijo\n",
    "    num, sufijo = valor.split(' ')[0], valor.split(' ')[1]\n",
    "    \n",
    "    # Transformar el valor basado en el sufijo\n",
    "    if sufijo == 'M':\n",
    "        return str(float(num) * 1e6).replace('.0', '')  # Multiplicar por 1 millón y convertir a string\n",
    "    if sufijo == 'K':\n",
    "        return str(float(num) * 1e3).replace('.0', '')  # Multiplicar por mil y convertir a string\n",
    "    else:\n",
    "        return num  # En caso de que haya otros sufijos en el futuro\n",
    "\n",
    "# Aplicar la función a la columna\n",
    "pdf['views'] = pdf['views'].apply(transformar_visualizaciones)\n",
    "\n",
    "# Mostrar el DataFrame resultante\n",
    "print(pdf)"
   ]
  },
  {
   "cell_type": "code",
   "execution_count": 15,
   "id": "82fa4e59-9f96-4955-a338-ea863694f3eb",
   "metadata": {},
   "outputs": [
    {
     "name": "stdout",
     "output_type": "stream",
     "text": [
      "                                                titulo      views  \\\n",
      "0                                        Amaia - Nanai     393000   \n",
      "1    Amaia - Santos Que Yo Te Pinte (Live | Vevo St...     158000   \n",
      "2    Amaia - La Vida Imposible (Live | Vevo Studio ...     193000   \n",
      "3    Amaia, Aitana - La Canción Que No Quiero Cantarte    2300000   \n",
      "4                          Amaia - Bienvenidos Al Show    1700000   \n",
      "..                                                 ...        ...   \n",
      "256                  Nicki Nicole, Cazzu - Cómo Dímelo   38000000   \n",
      "257                     Nicki Nicole - Nos Encontramos   10000000   \n",
      "258     Nicki Nicole - F**cking Diablo (Video Oficial)   15000000   \n",
      "259          Nicki Nicole - Años Luz ✨ (Video Oficial)   69000000   \n",
      "260      Nicki Nicole - Wapo Traketero (Video Oficial)  161000000   \n",
      "\n",
      "              fecha            user fecha_semana fecha_anio  \n",
      "0    hace 3 semanas    @amaiaromero            3          0  \n",
      "1       hace 2 años    @amaiaromero            0          2  \n",
      "2       hace 2 años    @amaiaromero            0          2  \n",
      "3       hace 2 años    @amaiaromero            0          2  \n",
      "4       hace 2 años    @amaiaromero            0          2  \n",
      "..              ...             ...          ...        ...  \n",
      "256     hace 4 años  @NickiNicoleOk            0          4  \n",
      "257     hace 4 años  @NickiNicoleOk            0          4  \n",
      "258     hace 4 años  @NickiNicoleOk            0          4  \n",
      "259     hace 4 años  @NickiNicoleOk            0          4  \n",
      "260     hace 5 años  @NickiNicoleOk            0          5  \n",
      "\n",
      "[261 rows x 6 columns]\n"
     ]
    }
   ],
   "source": [
    "# Definir una función que limpie y transforme los valores de la columna\n",
    "def transformar_anio(valor):\n",
    "    # Obtener la parte numérica y el sufijo\n",
    "    num, tiempo = valor.split(' ')[1], valor.split(' ')[2]\n",
    "    \n",
    "    # Transformar el valor basado en el sufijo\n",
    "    if tiempo == 'años' or tiempo == 'año':\n",
    "        return num \n",
    "    if tiempo == 'semanas' or tiempo == 'semana':\n",
    "       return 0\n",
    "    if tiempo == 'meses' or tiempo == 'mes':\n",
    "        return 0\n",
    "    else:\n",
    "        return num \n",
    "\n",
    "# Aplicar la función a la columna\n",
    "\n",
    "pdf['fecha_anio'] = pdf['fecha'].apply(transformar_anio)\n",
    "\n",
    "# Mostrar el DataFrame resultante\n",
    "print(pdf)"
   ]
  },
  {
   "cell_type": "code",
   "execution_count": 16,
   "id": "79ec037c-bdef-4373-9ef6-911473a98096",
   "metadata": {},
   "outputs": [
    {
     "name": "stdout",
     "output_type": "stream",
     "text": [
      "['@amaiaromero' '@belen_aguilera' '@ClaudiaNicolasa' '@NickiNicoleOk']\n",
      "user              fecha_anio\n",
      "@ClaudiaNicolasa  0             8100023300083000800001250001070004260001290003...\n",
      "                  1             3300080000368000310003000013900044000380004200...\n",
      "                  2             8100024000500007600040000430004900099000920005...\n",
      "@NickiNicoleOk    0              150000028000002800000013000009000000223000511000\n",
      "                  1             1050000002960009300000320000021000001900000262...\n",
      "                  2             2100000047000004099999.99999999956180001500000...\n",
      "                  3                      1700000033000000750000004000000036000000\n",
      "                  4             1400000175000000230000020000000110000001200000...\n",
      "                  5                                                     161000000\n",
      "@amaiaromero      0                                                        393000\n",
      "                  2             1580001930002300000170000092900014000004500024...\n",
      "                  3                                                        616000\n",
      "                  4                                                22000003300000\n",
      "                  5                  34100040700013000005400000125000270000036000\n",
      "@belen_aguilera   0                                      200000350000524000150000\n",
      "                  1                    116000518000293000103000331000497000843000\n",
      "                  2               50000008680007680006900015300023000009200488000\n",
      "                  3                                676000509000880000050000288000\n",
      "                  4              740000356000177000249000940002400000916000561000\n",
      "                  5                                    65900020000002000000933000\n",
      "Name: views, dtype: object\n"
     ]
    }
   ],
   "source": [
    "# data from https://allisonhorst.github.io/palmerpenguins/\n",
    "\n",
    "import matplotlib.pyplot as plt\n",
    "import numpy as np\n",
    "valores_unicos = pdf['user'].unique()\n",
    "print(valores_unicos)\n",
    "# Sumar los valores de la columna 'valores' según la columna 'categoria'\n",
    "suma_views_x_anio = pdf.groupby(['user', 'fecha_anio'])['views'].sum()\n",
    "print(suma_views_x_anio)\n"
   ]
  },
  {
   "cell_type": "code",
   "execution_count": null,
   "id": "a1a037b8-8f15-4ff3-8c3d-30a0493a7d7e",
   "metadata": {},
   "outputs": [],
   "source": []
  }
 ],
 "metadata": {
  "kernelspec": {
   "display_name": "Python 3 (ipykernel)",
   "language": "python",
   "name": "python3"
  },
  "language_info": {
   "codemirror_mode": {
    "name": "ipython",
    "version": 3
   },
   "file_extension": ".py",
   "mimetype": "text/x-python",
   "name": "python",
   "nbconvert_exporter": "python",
   "pygments_lexer": "ipython3",
   "version": "3.11.6"
  }
 },
 "nbformat": 4,
 "nbformat_minor": 5
}
